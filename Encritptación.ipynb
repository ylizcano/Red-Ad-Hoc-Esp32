{
  "nbformat": 4,
  "nbformat_minor": 0,
  "metadata": {
    "colab": {
      "provenance": []
    },
    "kernelspec": {
      "name": "python3",
      "display_name": "Python 3"
    },
    "language_info": {
      "name": "python"
    }
  },
  "cells": [
    {
      "cell_type": "markdown",
      "source": [
        "# Encriptando"
      ],
      "metadata": {
        "id": "mtIFTE9_E7Ja"
      }
    },
    {
      "cell_type": "code",
      "source": [
        "from google.colab import drive\n",
        "drive.mount('/content/drive')"
      ],
      "metadata": {
        "id": "PipWdzSYHNuU",
        "outputId": "a969d8b6-d029-4fc6-c4f1-5f348e63517e",
        "colab": {
          "base_uri": "https://localhost:8080/"
        }
      },
      "execution_count": null,
      "outputs": [
        {
          "output_type": "stream",
          "name": "stdout",
          "text": [
            "Drive already mounted at /content/drive; to attempt to forcibly remount, call drive.mount(\"/content/drive\", force_remount=True).\n"
          ]
        }
      ]
    },
    {
      "cell_type": "code",
      "source": [
        "# Importando librerias\n",
        "from cryptography.fernet import Fernet"
      ],
      "metadata": {
        "id": "qpw_8iEN-Jba"
      },
      "execution_count": null,
      "outputs": []
    },
    {
      "cell_type": "code",
      "source": [
        "# Genera una clave de cifrado\n",
        "clave = Fernet.generate_key()\n",
        "print(\"La clave que genera el teclado es:\\n\" + str(clave))"
      ],
      "metadata": {
        "colab": {
          "base_uri": "https://localhost:8080/"
        },
        "id": "U379OwnTA0nS",
        "outputId": "ecf62295-7ab2-484d-fb92-796818b0eedc"
      },
      "execution_count": null,
      "outputs": [
        {
          "output_type": "stream",
          "name": "stdout",
          "text": [
            "La clave que genera el teclado es:\n",
            "b'qIsbNX4v6gW8S1i08IWjJ5hTT0HqfIS1S2Iqoy1OjIU='\n"
          ]
        }
      ]
    },
    {
      "cell_type": "code",
      "source": [
        "# Crea un objeto Fernet usando la clave\n",
        "cipher_suite = Fernet(clave)"
      ],
      "metadata": {
        "id": "D9v8wXKxBHW2"
      },
      "execution_count": null,
      "outputs": []
    },
    {
      "cell_type": "code",
      "source": [
        "# Define el nombre del archivo de entrada\n",
        "archivo_entrada = 'Texto_Ad-Hoc.txt'"
      ],
      "metadata": {
        "id": "zAwfVrd6BL_q"
      },
      "execution_count": null,
      "outputs": []
    },
    {
      "cell_type": "code",
      "source": [
        "# Define el nombre del archivo de salida\n",
        "archivo_salida = 'archivo_cifrado.txt'"
      ],
      "metadata": {
        "id": "YNCnXZvUBUMi"
      },
      "execution_count": null,
      "outputs": []
    },
    {
      "cell_type": "code",
      "source": [
        "# Lee el contenido del archivo de entrada\n",
        "with open(archivo_entrada, 'rb') as archivo:\n",
        "    contenido = archivo.read()\n",
        "    print(contenido)"
      ],
      "metadata": {
        "id": "X7La-oqpOrE6",
        "colab": {
          "base_uri": "https://localhost:8080/"
        },
        "outputId": "96e59009-9922-45d6-c04a-fb52ff890084"
      },
      "execution_count": null,
      "outputs": [
        {
          "output_type": "stream",
          "name": "stdout",
          "text": [
            "b'\\r\\nEn la actualidad, las comunicaciones ad hoc son superimportantes porque permiten a los dispositivos hablar directamente sin necesitar una red fija. Imagina situaciones como emergencias o lugares remotos donde no hay torres de comunicaci\\xc3\\xb3n. Estas comunicaciones son como los amigos que se pasan notas en clase sin necesitar al profesor. Son geniales en el ej\\xc3\\xa9rcito, cuando los soldados necesitan hablar sin alertar al enemigo. Adem\\xc3\\xa1s, estas comunicaciones hacen que los dispositivos puedan trabajar juntos mejorando la coordinaci\\xc3\\xb3n. En resumen, las comunicaciones ad hoc son como un equipo de superh\\xc3\\xa9roes que salvan el d\\xc3\\xada en situaciones dif\\xc3\\xadciles.'\n"
          ]
        }
      ]
    },
    {
      "cell_type": "code",
      "execution_count": null,
      "metadata": {
        "id": "tWRevtA57gX1"
      },
      "outputs": [],
      "source": [
        "# Cifra el contenido\n",
        "contenido_cifrado = cipher_suite.encrypt(contenido)"
      ]
    },
    {
      "cell_type": "code",
      "source": [
        "# Escribe el contenido cifrado en el archivo de salida\n",
        "with open(archivo_salida, 'wb') as f:\n",
        "    f.write(contenido_cifrado)"
      ],
      "metadata": {
        "id": "mFjjUA659dwk"
      },
      "execution_count": null,
      "outputs": []
    },
    {
      "cell_type": "code",
      "source": [
        "print(\"Archivo cifrado creado:\", archivo_salida)"
      ],
      "metadata": {
        "id": "1Hx_RPeMDFlG",
        "colab": {
          "base_uri": "https://localhost:8080/"
        },
        "outputId": "b18bab4e-6c99-41e4-c02c-f7004f6dd42f"
      },
      "execution_count": null,
      "outputs": [
        {
          "output_type": "stream",
          "name": "stdout",
          "text": [
            "Archivo cifrado creado: archivo_cifrado.txt\n"
          ]
        }
      ]
    },
    {
      "cell_type": "markdown",
      "source": [
        "# Desencriptando"
      ],
      "metadata": {
        "id": "L15cWQr2FAu7"
      }
    },
    {
      "cell_type": "markdown",
      "source": [
        "clave = \"b'sVPSEGoJwEGRpYzqmmFIdcdy1XayOxfhTsYw4oEthLw='\""
      ],
      "metadata": {
        "id": "mYVzvm1oDnHi"
      }
    },
    {
      "cell_type": "code",
      "source": [
        "# Crea un objeto Fernet usando la clave\n",
        "cipher_suite = Fernet(clave)"
      ],
      "metadata": {
        "id": "ELMOEgaaDj2K"
      },
      "execution_count": null,
      "outputs": []
    },
    {
      "cell_type": "code",
      "source": [
        "# Nombre del archivo cifrado y archivo de salida desencriptado\n",
        "archivo_cifrado = '/content/archivo_cifrado.txt'\n",
        "archivo_desencriptado = 'archivo_desencriptado.txt'"
      ],
      "metadata": {
        "id": "2L2UcBI8D3qT"
      },
      "execution_count": null,
      "outputs": []
    },
    {
      "cell_type": "code",
      "source": [
        "# Lee el contenido cifrado del archivo\n",
        "with open(archivo_cifrado, 'rb') as f:\n",
        "    contenido_cifrado = f.read()"
      ],
      "metadata": {
        "id": "XD1rBroGD7Xk"
      },
      "execution_count": null,
      "outputs": []
    },
    {
      "cell_type": "code",
      "source": [
        "# Desencripta el contenido\n",
        "contenido_desencriptado = cipher_suite.decrypt(contenido_cifrado)"
      ],
      "metadata": {
        "id": "dreylmfQD-vD"
      },
      "execution_count": null,
      "outputs": []
    },
    {
      "cell_type": "code",
      "source": [
        "# Escribe el contenido desencriptado en el archivo de salida\n",
        "with open(archivo_desencriptado, 'wb') as f:\n",
        "    f.write(contenido_desencriptado)"
      ],
      "metadata": {
        "id": "RgK-Bvi9EEJT"
      },
      "execution_count": null,
      "outputs": []
    },
    {
      "cell_type": "code",
      "source": [
        "print(\"Archivo desencriptado creado:\", archivo_desencriptado)"
      ],
      "metadata": {
        "id": "LtiMGBq2ELGy",
        "colab": {
          "base_uri": "https://localhost:8080/"
        },
        "outputId": "fa382677-785e-40bb-deff-874d6c168ed2"
      },
      "execution_count": null,
      "outputs": [
        {
          "output_type": "stream",
          "name": "stdout",
          "text": [
            "Archivo desencriptado creado: archivo_desencriptado.txt\n"
          ]
        }
      ]
    }
  ]
}